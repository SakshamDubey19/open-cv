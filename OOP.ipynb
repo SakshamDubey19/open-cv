{
 "cells": [
  {
   "cell_type": "code",
   "execution_count": 1,
   "metadata": {},
   "outputs": [
    {
     "name": "stdout",
     "output_type": "stream",
     "text": [
      "12 <class 'int'>\n"
     ]
    }
   ],
   "source": [
    "x = 12\n",
    "print(x,type(x))"
   ]
  },
  {
   "cell_type": "markdown",
   "metadata": {},
   "source": [
    "# OOP\n",
    "- class☑️\n",
    "- object☑️\n",
    "- inheritence☑️\n",
    "- plymorphism❌\n",
    "- encapsulation❌\n",
    "- abstraction❌"
   ]
  },
  {
   "cell_type": "markdown",
   "metadata": {},
   "source": [
    "Class - blueprint for creating objects\n",
    "- properties/attributes/fields\n",
    "- methods/function\n",
    "- constructor(special method)\n",
    "\n",
    "syntax\n",
    "```\n",
    "class ClassName:\n",
    "    properties 1\n",
    "    properties 2\n",
    "    properties n\n",
    "\n",
    "    def method1():\n",
    "        statements\n",
    "    def method2():\n",
    "        statements\n",
    "    def method3():\n",
    "        statements\n",
    "\n",
    "\n",
    "    \n",
    "\n"
   ]
  },
  {
   "cell_type": "code",
   "execution_count": 2,
   "metadata": {},
   "outputs": [],
   "source": [
    "class Book:\n",
    "    author = ''\n",
    "    title = ''"
   ]
  },
  {
   "cell_type": "code",
   "execution_count": 3,
   "metadata": {},
   "outputs": [
    {
     "data": {
      "text/plain": [
       "['__class__',\n",
       " '__delattr__',\n",
       " '__dict__',\n",
       " '__dir__',\n",
       " '__doc__',\n",
       " '__eq__',\n",
       " '__format__',\n",
       " '__ge__',\n",
       " '__getattribute__',\n",
       " '__gt__',\n",
       " '__hash__',\n",
       " '__init__',\n",
       " '__init_subclass__',\n",
       " '__le__',\n",
       " '__lt__',\n",
       " '__module__',\n",
       " '__ne__',\n",
       " '__new__',\n",
       " '__reduce__',\n",
       " '__reduce_ex__',\n",
       " '__repr__',\n",
       " '__setattr__',\n",
       " '__sizeof__',\n",
       " '__str__',\n",
       " '__subclasshook__',\n",
       " '__weakref__',\n",
       " 'author',\n",
       " 'title']"
      ]
     },
     "execution_count": 3,
     "metadata": {},
     "output_type": "execute_result"
    }
   ],
   "source": [
    "dir(Book)"
   ]
  },
  {
   "cell_type": "code",
   "execution_count": 9,
   "metadata": {},
   "outputs": [
    {
     "name": "stdout",
     "output_type": "stream",
     "text": [
      "<__main__.Book object at 0x000001783065CCD0>\n",
      "THis is my book\n",
      "Saksham dubey\n",
      "<__main__.Book object at 0x000001783065E800>\n",
      "Saksham dubey\n",
      "This is my  book\n"
     ]
    }
   ],
   "source": [
    "# obj  = Class()\n",
    "b1 = Book()\n",
    "print(b1)\n",
    "b1.title = 'THis is my book'\n",
    "print(b1.title)\n",
    "b1.author = 'Saksham dubey'\n",
    "print(b1.author)\n",
    "\n",
    "b2 = Book()\n",
    "b2.title = 'This is my  book'\n",
    "b2.author = 'Saksham dubey'\n",
    "print(b2)\n",
    "print(b2.author)\n",
    "print(b2.title)"
   ]
  },
  {
   "cell_type": "code",
   "execution_count": 11,
   "metadata": {},
   "outputs": [
    {
     "name": "stdout",
     "output_type": "stream",
     "text": [
      "<__main__.ChatMessage object at 0x00000178306AB0A0>\n",
      "hey how are you\n",
      "saksham\n",
      "mango\n",
      "13 Aug 2024\n"
     ]
    }
   ],
   "source": [
    "class ChatMessage:\n",
    "    sender = ''\n",
    "    last_msg = ''\n",
    "    dp = ''\n",
    "    date = ''\n",
    "    notif = 0\n",
    "    pinned = False\n",
    "    muted = False\n",
    "    has_status = False\n",
    "\n",
    "cm = ChatMessage()\n",
    "\n",
    "\n",
    "cm.sender = 'saksham'\n",
    "cm.last_msg = 'hey how are you'\n",
    "cm.dp = 'mango'\n",
    "cm.date = '13 Aug 2024'\n",
    "\n",
    "print(cm)\n",
    "print(cm.last_msg)\n",
    "print(cm.sender)\n",
    "print(cm.dp)\n",
    "print(cm.date)"
   ]
  },
  {
   "cell_type": "code",
   "execution_count": 12,
   "metadata": {},
   "outputs": [
    {
     "data": {
      "text/plain": [
       "['__class__',\n",
       " '__delattr__',\n",
       " '__dict__',\n",
       " '__dir__',\n",
       " '__doc__',\n",
       " '__eq__',\n",
       " '__format__',\n",
       " '__ge__',\n",
       " '__getattribute__',\n",
       " '__gt__',\n",
       " '__hash__',\n",
       " '__init__',\n",
       " '__init_subclass__',\n",
       " '__le__',\n",
       " '__lt__',\n",
       " '__module__',\n",
       " '__ne__',\n",
       " '__new__',\n",
       " '__reduce__',\n",
       " '__reduce_ex__',\n",
       " '__repr__',\n",
       " '__setattr__',\n",
       " '__sizeof__',\n",
       " '__str__',\n",
       " '__subclasshook__',\n",
       " '__weakref__',\n",
       " 'date',\n",
       " 'dp',\n",
       " 'has_status',\n",
       " 'last_msg',\n",
       " 'muted',\n",
       " 'notif',\n",
       " 'pinned',\n",
       " 'sender']"
      ]
     },
     "execution_count": 12,
     "metadata": {},
     "output_type": "execute_result"
    }
   ],
   "source": [
    "class ChatMessage:\n",
    "    def __init__(self,s,msg,dp,date,n,p,m,hs):\n",
    "        self.sender = s\n",
    "        self.last_msg = msg\n",
    "        self.dp = dp\n",
    "        self.date = date\n",
    "        self.notif = n\n",
    "        self.pinned = p\n",
    "        self.muted = m\n",
    "        self.has_status = hs\n",
    "\n",
    "cm2 = ChatMessage(s='Saksham',\n",
    "                  msg='hello',\n",
    "                  dp='mango',\n",
    "                  date='13 august 2024',\n",
    "                  n=0,\n",
    "                  p=False,\n",
    "                  m=False,\n",
    "                  hs=True )\n",
    "dir(cm2)"
   ]
  },
  {
   "cell_type": "code",
   "execution_count": 18,
   "metadata": {},
   "outputs": [],
   "source": [
    "class Student:\n",
    "    def __init__(self,Name,Std,Roll_no):\n",
    "        self.Name = Name\n",
    "        self.std = Std\n",
    "        self.Roll_no = Roll_no\n",
    "    def display(self):\n",
    "        print(\"Name:\",self.Name)\n",
    "        print('STD:',self.std)\n",
    "        print(\"RollNo:\",self.Roll_no)\n",
    "        print(\"_\"*20)"
   ]
  },
  {
   "cell_type": "code",
   "execution_count": 19,
   "metadata": {},
   "outputs": [
    {
     "name": "stdout",
     "output_type": "stream",
     "text": [
      "Name: John\n",
      "STD: 12\n",
      "RollNo: 234\n",
      "____________________\n",
      "Name: saksham\n",
      "STD: 23\n",
      "RollNo: 224\n",
      "____________________\n",
      "Name: Rohan\n",
      "STD: 34\n",
      "RollNo: 346\n",
      "____________________\n"
     ]
    }
   ],
   "source": [
    "s1 = Student('John',12,234)\n",
    "s2 = Student('saksham',23,224)\n",
    "s3 = Student('Rohan',34,346)\n",
    "s1.display()\n",
    "s2.display()\n",
    "s3.display()"
   ]
  },
  {
   "cell_type": "code",
   "execution_count": 22,
   "metadata": {},
   "outputs": [],
   "source": [
    "class PET:\n",
    "    def __init__(self,petname,color,gender,age):\n",
    "        self.petname = petname\n",
    "        self.color = color\n",
    "        self.gender = gender\n",
    "        self.age = age\n",
    "    def display(self):\n",
    "        print('PetName:',self.petname)\n",
    "        print('Color:',self.color)\n",
    "        print('Age:',self.age)\n",
    "        print('Gender:',self.gender)\n",
    "        print(\"_\"*20)\n",
    "    "
   ]
  },
  {
   "cell_type": "code",
   "execution_count": 23,
   "metadata": {},
   "outputs": [
    {
     "name": "stdout",
     "output_type": "stream",
     "text": [
      "PetName: Billy\n",
      "Color: red\n",
      "Age: male\n",
      "Gender: 13\n",
      "____________________\n",
      "PetName: grey\n",
      "Color: black\n",
      "Age: female\n",
      "Gender: 14\n",
      "____________________\n"
     ]
    }
   ],
   "source": [
    "pet1 = PET('Billy','red','13','male')\n",
    "pet2 = PET('grey','black','14','female')\n",
    "pet1.display()\n",
    "pet2.display()"
   ]
  },
  {
   "cell_type": "code",
   "execution_count": 34,
   "metadata": {},
   "outputs": [],
   "source": [
    "from dataclasses import dataclass\n",
    "\n",
    "@dataclass\n",
    "class Pet:\n",
    "    pet_type: str\n",
    "    gender :str\n",
    "    age :int"
   ]
  },
  {
   "cell_type": "code",
   "execution_count": 35,
   "metadata": {},
   "outputs": [
    {
     "name": "stdout",
     "output_type": "stream",
     "text": [
      "Pet(pet_type='cat', gender='male', age=14)\n"
     ]
    }
   ],
   "source": [
    "p1 = Pet(pet_type='cat',gender = 'male',age = 14)\n",
    "print(p1)"
   ]
  },
  {
   "cell_type": "code",
   "execution_count": 38,
   "metadata": {},
   "outputs": [
    {
     "name": "stdout",
     "output_type": "stream",
     "text": [
      "200\n",
      "600\n",
      "R2 is bigger\n"
     ]
    }
   ],
   "source": [
    "class Rectangle:\n",
    "    def __init__(self,l,w):\n",
    "        self.length = l\n",
    "        self.width = w\n",
    "    def area(self):\n",
    "        return self.length * self.width\n",
    "    def parimeter(self):\n",
    "        return 2*(self.length+self.width)\n",
    "    \n",
    "r1 = Rectangle(10,20)\n",
    "r2  = Rectangle(20,30)\n",
    "print(r1.area())\n",
    "print(r2.area())\n",
    "\n",
    "if r1.area()>r2.area():\n",
    "    print('R1 is bigger')\n",
    "else:\n",
    "    print('R2 is bigger')"
   ]
  },
  {
   "cell_type": "markdown",
   "metadata": {},
   "source": [
    "# Inheritence\n",
    "- multi-level inheritence  (A->B->)\n",
    "```\n",
    "class SuperClass:\n",
    "    pass\n",
    "\n",
    "class SubClass(SuperClass):\n",
    "    pass\n",
    "\n",
    "```\n",
    "\n",
    "- multiple inheritence (A,B->C)\n",
    "```\n",
    "class A:\n",
    "    pass\n",
    "\n",
    "class B:\n",
    "    pass\n",
    "\n",
    "class C(A,B):\n",
    "    pass\n",
    "```"
   ]
  },
  {
   "cell_type": "code",
   "execution_count": 6,
   "metadata": {},
   "outputs": [],
   "source": [
    "class Vehicle:\n",
    "    def __init__(self,brand,model):\n",
    "        self.Brand = brand\n",
    "        self.Model = model \n",
    "    def display(self):\n",
    "        print(f'{self.Brand}-{self.Model}')"
   ]
  },
  {
   "cell_type": "code",
   "execution_count": 7,
   "metadata": {},
   "outputs": [],
   "source": [
    "# Car, Bike,Truck\n",
    "class Car(Vehicle):\n",
    "    def __init__(self, brand, model,cartype,seats):\n",
    "        super().__init__(brand, model)\n",
    "        self.CarType = cartype\n",
    "        self.Seats = seats\n",
    "        "
   ]
  },
  {
   "cell_type": "code",
   "execution_count": 9,
   "metadata": {},
   "outputs": [
    {
     "name": "stdout",
     "output_type": "stream",
     "text": [
      "Toyota-Corolla\n",
      "Hudayi-Civic\n"
     ]
    }
   ],
   "source": [
    "c1 = Car('Toyota','Corolla','Sedan',5)\n",
    "c2 = Car('Hudayi','Civic','Sedan',5)\n",
    "c1.display()\n",
    "c2.display()"
   ]
  },
  {
   "cell_type": "code",
   "execution_count": 12,
   "metadata": {},
   "outputs": [],
   "source": [
    "class SuperList(list):\n",
    "    def __init__(self,*args):\n",
    "        super().__init__(*args)\n",
    "    def sum(self):\n",
    "        clean_list = [x for x in self if isinstance(x,int)]\n",
    "        return sum(clean_list)\n"
   ]
  },
  {
   "cell_type": "code",
   "execution_count": 14,
   "metadata": {},
   "outputs": [
    {
     "name": "stdout",
     "output_type": "stream",
     "text": [
      "[1, 'bat', 2, 'cat', 3, 'rat', 4, 'mat']\n",
      "10\n",
      "<built-in method sort of SuperList object at 0x0000023457DEEA70>\n"
     ]
    }
   ],
   "source": [
    "x = SuperList([1,'bat',2,'cat',3,'rat',4,'mat'])\n",
    "print(x)\n",
    "print(x.sum())\n",
    "print(x.sort)"
   ]
  },
  {
   "cell_type": "code",
   "execution_count": 18,
   "metadata": {},
   "outputs": [],
   "source": [
    "import random\n",
    "class Wizard:\n",
    "    def __init__(self,spells):\n",
    "        self.Spells = spells\n",
    "    def cast_spell(self):\n",
    "        print(f'casting spell{random.choice(self.Spells)}')\n",
    "    \n",
    "class Warrior:\n",
    "    def __init__(self,weapons):\n",
    "        self.Weapons = weapons\n",
    "    def attack(self):\n",
    "        print(f'attacking wiht{random.choice(self.Weapons)}')\n",
    "\n",
    "class BattleMage(Wizard,Warrior):\n",
    "    def __init__(self, spells,weapons):\n",
    "        Wizard.__init__(self,spells)\n",
    "        Warrior.__init__(self,weapons)\n",
    "    def fight(self):\n",
    "        self.cast_spell()\n",
    "        self.attack()"
   ]
  },
  {
   "cell_type": "code",
   "execution_count": 19,
   "metadata": {},
   "outputs": [
    {
     "name": "stdout",
     "output_type": "stream",
     "text": [
      "warrior\n",
      "attacking wihtAxe\n",
      "wizard\n",
      "casting spellFireball\n",
      "Battlemage\n",
      "casting spellSword\n",
      "attacking wihtLightining\n"
     ]
    }
   ],
   "source": [
    "w = Warrior(['Sword','Axe','Mace'])\n",
    "wz = Wizard(['Fireball','Iceball','Lightining'])\n",
    "Bm = BattleMage(['Sword','Axe','Mace'],['Firewall','Iceball','Lightining'])\n",
    "\n",
    "print('warrior')\n",
    "w.attack()\n",
    "print('wizard')\n",
    "wz.cast_spell()\n",
    "print('Battlemage')\n",
    "Bm.fight()"
   ]
  }
 ],
 "metadata": {
  "kernelspec": {
   "display_name": "Python 3",
   "language": "python",
   "name": "python3"
  },
  "language_info": {
   "codemirror_mode": {
    "name": "ipython",
    "version": 3
   },
   "file_extension": ".py",
   "mimetype": "text/x-python",
   "name": "python",
   "nbconvert_exporter": "python",
   "pygments_lexer": "ipython3",
   "version": "3.10.7"
  }
 },
 "nbformat": 4,
 "nbformat_minor": 2
}
