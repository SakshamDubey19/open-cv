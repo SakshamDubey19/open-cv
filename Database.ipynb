{
 "cells": [
  {
   "cell_type": "markdown",
   "metadata": {},
   "source": [
    "# SQLalchemy - \n",
    "Database <-> Python\n",
    "``` \n",
    "pip install sqlalchemy\n",
    "```\n"
   ]
  },
  {
   "cell_type": "code",
   "execution_count": 1,
   "metadata": {},
   "outputs": [],
   "source": [
    "from sqlalchemy import create_engine\n",
    "from sqlalchemy.orm import sessionmaker, declarative_base\n",
    "from sqlalchemy import Column,Integer,String,DateTime\n",
    "from datetime import datetime"
   ]
  },
  {
   "cell_type": "code",
   "execution_count": 2,
   "metadata": {},
   "outputs": [],
   "source": [
    "Base = declarative_base()\n",
    "class Task(Base):\n",
    "    __tablename__ = 'tasks'\n",
    "    id = Column(Integer,primary_key = True)\n",
    "    task  = Column(String)\n",
    "    deadline = Column(DateTime,default=datetime.now())\n",
    "    "
   ]
  },
  {
   "cell_type": "code",
   "execution_count": 6,
   "metadata": {},
   "outputs": [
    {
     "name": "stdout",
     "output_type": "stream",
     "text": [
      "2024-08-16 17:41:04,233 INFO sqlalchemy.engine.Engine BEGIN (implicit)\n",
      "2024-08-16 17:41:04,233 INFO sqlalchemy.engine.Engine PRAGMA main.table_info(\"tasks\")\n",
      "2024-08-16 17:41:04,241 INFO sqlalchemy.engine.Engine [raw sql] ()\n",
      "2024-08-16 17:41:04,241 INFO sqlalchemy.engine.Engine COMMIT\n"
     ]
    }
   ],
   "source": [
    "engine = create_engine('sqlite:///mydb.sqlite3',echo = True)\n",
    "Base.metadata.create_all(engine)"
   ]
  },
  {
   "cell_type": "code",
   "execution_count": 7,
   "metadata": {},
   "outputs": [],
   "source": [
    "def open_db():\n",
    "    engine = create_engine('sqlite:///mydb.sqlite3')\n",
    "    session = sessionmaker(bind = engine)\n",
    "    return session()"
   ]
  },
  {
   "cell_type": "markdown",
   "metadata": {},
   "source": [
    "# ORM"
   ]
  },
  {
   "cell_type": "code",
   "execution_count": 10,
   "metadata": {},
   "outputs": [],
   "source": [
    "db = open_db()\n",
    "db.add(Task(task = 'Learn Sqlalchemy',deadline = datetime(2024,8,1)))\n",
    "db.add(Task(task = 'Happy Independence day'))\n",
    "db.add(Task(task = 'hello my name is saksham'))\n",
    "db.add(Task(task = 'open the door'))\n",
    "db.add(Task(task = 'clean the fridge',deadline = datetime(2024,8,2)))\n",
    "db.add(Task(task = 'dog is barking',deadline = datetime(2024,8,3)))\n",
    "db.add(Task(task = 'pay subscription fees',deadline = datetime(2024,8,4)))\n",
    "\n",
    "db.commit()\n",
    "db.close()"
   ]
  },
  {
   "cell_type": "markdown",
   "metadata": {},
   "source": [
    "# quering the database\n",
    "- get all the data\n",
    "- get specific data using filter"
   ]
  },
  {
   "cell_type": "code",
   "execution_count": 15,
   "metadata": {},
   "outputs": [
    {
     "name": "stdout",
     "output_type": "stream",
     "text": [
      "#Row14 | Learn Sqlalchemy               | 2024-08-01 | 00:00:00\n",
      "#Row15 | Happy Independence day         | 2024-08-16 | 17:40:59.445476\n",
      "#Row16 | hello my name is saksham       | 2024-08-16 | 17:40:59.445476\n",
      "#Row17 | open the door                  | 2024-08-16 | 17:40:59.445476\n",
      "#Row18 | clean the fridge               | 2024-08-02 | 00:00:00\n",
      "#Row19 | dog is barking                 | 2024-08-03 | 00:00:00\n",
      "#Row20 | pay subscription fees          | 2024-08-04 | 00:00:00\n"
     ]
    }
   ],
   "source": [
    "# all the data\n",
    "db= open_db()\n",
    "tasks = db.query(Task).all()\n",
    "for item in tasks:\n",
    "    print(f'#Row{item.id:2} | {item.task:30} | {item.deadline.date()} | {item.deadline.time()}')\n",
    "db.close()"
   ]
  },
  {
   "cell_type": "code",
   "execution_count": 16,
   "metadata": {},
   "outputs": [
    {
     "name": "stdout",
     "output_type": "stream",
     "text": [
      "#17 | open the door                  | 2024-08-16 | 17:40:59.445476\n"
     ]
    }
   ],
   "source": [
    "# get item by id\n",
    "\n",
    "id = 17\n",
    "db = open_db()\n",
    "task = db.get(Task,id)\n",
    "if task:\n",
    "    print(f'#{task.id} | {task.task:30} | {task.deadline.date()} | {task.deadline.time()}')\n",
    "db.close()\n",
    "\n"
   ]
  },
  {
   "cell_type": "code",
   "execution_count": 17,
   "metadata": {},
   "outputs": [
    {
     "name": "stdout",
     "output_type": "stream",
     "text": [
      "#17 | open the door                  | 2024-08-16 | 17:40:59.445476\n"
     ]
    }
   ],
   "source": [
    "# Filter item by data\n",
    "\n",
    "title = 'open the door'\n",
    "db = open_db()\n",
    "taskss = db.query(Task).filter(Task.task==title).all()\n",
    "for item in taskss:\n",
    "    print(f'#{item.id} | {item.task:30} | {item.deadline.date()} | {item.deadline.time()}')\n",
    "db.close()"
   ]
  },
  {
   "cell_type": "code",
   "execution_count": 18,
   "metadata": {},
   "outputs": [
    {
     "name": "stdout",
     "output_type": "stream",
     "text": [
      "#18 | clean the fridge               | 2024-08-02 | 00:00:00 \n"
     ]
    }
   ],
   "source": [
    "# Filter item by date\n",
    "\n",
    "date= '02-08-2024'\n",
    "date = datetime.strptime(date,\"%d-%m-%Y\")\n",
    "db = open_db()\n",
    "taskk = db.query(Task).filter(Task.deadline == date).all()\n",
    "for item in taskk:\n",
    "    print(f'#{item.id} | {item.task:30} | {item.deadline.date()} | {item.deadline.time()} ')\n",
    "db.close()"
   ]
  },
  {
   "cell_type": "code",
   "execution_count": 19,
   "metadata": {},
   "outputs": [
    {
     "data": {
      "text/plain": [
       "<bound method Session.close of <sqlalchemy.orm.session.Session object at 0x000001F8A13F5DE0>>"
      ]
     },
     "execution_count": 19,
     "metadata": {},
     "output_type": "execute_result"
    }
   ],
   "source": [
    "# Update item\n",
    "\n",
    "id = 15\n",
    "db = open_db()\n",
    "result  = db.get(Task,id)\n",
    "if result:\n",
    "    result.task = 'new update'\n",
    "    result.deadline = datetime(2024,8,24)\n",
    "    db.commit()\n",
    "db.close"
   ]
  },
  {
   "cell_type": "code",
   "execution_count": 20,
   "metadata": {},
   "outputs": [
    {
     "name": "stdout",
     "output_type": "stream",
     "text": [
      "Item deleted\n"
     ]
    }
   ],
   "source": [
    "# delete item\n",
    "id = 16\n",
    "db = open_db()\n",
    "result = db.get(Task,id)\n",
    "if result:\n",
    "    db.delete(result)\n",
    "    db.commit()\n",
    "    print('Item deleted')\n",
    "db.close()"
   ]
  }
 ],
 "metadata": {
  "kernelspec": {
   "display_name": "Python 3",
   "language": "python",
   "name": "python3"
  },
  "language_info": {
   "codemirror_mode": {
    "name": "ipython",
    "version": 3
   },
   "file_extension": ".py",
   "mimetype": "text/x-python",
   "name": "python",
   "nbconvert_exporter": "python",
   "pygments_lexer": "ipython3",
   "version": "3.10.7"
  }
 },
 "nbformat": 4,
 "nbformat_minor": 2
}
