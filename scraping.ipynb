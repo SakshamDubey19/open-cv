{
 "cells": [
  {
   "cell_type": "code",
   "execution_count": null,
   "metadata": {},
   "outputs": [],
   "source": [
    "from dputils.scrape import Scraper ,Tag"
   ]
  },
  {
   "cell_type": "code",
   "execution_count": null,
   "metadata": {},
   "outputs": [],
   "source": [
    "url = 'https://digipodium.com/mining-demo.html'\n",
    "sc1 = Scraper(url)\n"
   ]
  },
  {
   "cell_type": "code",
   "execution_count": 6,
   "metadata": {},
   "outputs": [],
   "source": [
    "target = Tag('main')\n",
    "items = Tag(cls='col')\n",
    "title = Tag('h4')\n",
    "price = Tag('h1')\n"
   ]
  },
  {
   "cell_type": "code",
   "execution_count": 7,
   "metadata": {},
   "outputs": [
    {
     "data": {
      "text/plain": [
       "[{'title': None, 'price': 'Best Products Online'},\n",
       " {'title': None, 'price': 'Best Products Online'},\n",
       " {'title': None, 'price': None},\n",
       " {'title': 'LuxoWatch ', 'price': '₹5949.82'},\n",
       " {'title': 'LuxoWatch ', 'price': '₹5949.82'},\n",
       " {'title': 'LuxoWatch ', 'price': '₹5949.82'},\n",
       " {'title': 'LuxoWatch ', 'price': '₹5949.82'},\n",
       " {'title': 'LuxoWatch ', 'price': '₹5949.82'},\n",
       " {'title': 'LuxoWatch ', 'price': None},\n",
       " {'title': None, 'price': '₹5949.82'},\n",
       " {'title': 'SuperPhone X', 'price': '₹67118.07'},\n",
       " {'title': 'SuperPhone X', 'price': '₹67118.07'},\n",
       " {'title': 'SuperPhone X', 'price': None},\n",
       " {'title': None, 'price': '₹67118.07'},\n",
       " {'title': 'Miracle Blender', 'price': '₹3689.88'},\n",
       " {'title': 'Miracle Blender', 'price': '₹3689.88'},\n",
       " {'title': 'Miracle Blender', 'price': None},\n",
       " {'title': None, 'price': '₹3689.88'},\n",
       " {'title': 'Quantum Headphones', 'price': '₹9709.69'},\n",
       " {'title': 'Quantum Headphones', 'price': '₹9709.69'},\n",
       " {'title': 'Quantum Headphones', 'price': None},\n",
       " {'title': None, 'price': '₹9709.69'},\n",
       " {'title': 'SmartFridge', 'price': '₹89699.05'},\n",
       " {'title': 'SmartFridge', 'price': '₹89699.05'},\n",
       " {'title': 'SmartFridge', 'price': None},\n",
       " {'title': None, 'price': '₹89699.05'},\n",
       " {'title': 'Galactic Glasses', 'price': '₹2234.52'},\n",
       " {'title': 'Galactic Glasses', 'price': '₹2234.52'},\n",
       " {'title': 'Galactic Glasses', 'price': None},\n",
       " {'title': None, 'price': '₹2234.52'},\n",
       " {'title': 'PowerJuicer', 'price': '₹6651.27'},\n",
       " {'title': 'PowerJuicer', 'price': '₹6651.27'},\n",
       " {'title': 'PowerJuicer', 'price': None},\n",
       " {'title': None, 'price': '₹6651.27'},\n",
       " {'title': 'iSpectre Laptop', 'price': '₹119647.11'},\n",
       " {'title': 'iSpectre Laptop', 'price': '₹119647.11'},\n",
       " {'title': 'iSpectre Laptop', 'price': None},\n",
       " {'title': None, 'price': '₹119647.11'},\n",
       " {'title': 'HealthBand', 'price': '₹5228.64'},\n",
       " {'title': 'HealthBand', 'price': '₹5228.64'},\n",
       " {'title': 'HealthBand', 'price': None},\n",
       " {'title': None, 'price': '₹5228.64'},\n",
       " {'title': 'MaxiSound Speaker', 'price': '₹14908.25'},\n",
       " {'title': 'MaxiSound Speaker', 'price': '₹14908.25'},\n",
       " {'title': 'MaxiSound Speaker', 'price': None},\n",
       " {'title': None, 'price': '₹14908.25'},\n",
       " {'title': 'UltraSound Toothbrush', 'price': '₹2456.50'},\n",
       " {'title': 'UltraSound Toothbrush', 'price': '₹2456.50'},\n",
       " {'title': 'UltraSound Toothbrush', 'price': None},\n",
       " {'title': None, 'price': '₹2456.50'},\n",
       " {'title': 'SuperFit Smartwatch', 'price': '₹3679.99'},\n",
       " {'title': 'SuperFit Smartwatch', 'price': '₹3679.99'},\n",
       " {'title': 'SuperFit Smartwatch', 'price': None},\n",
       " {'title': None, 'price': '₹3679.99'},\n",
       " {'title': 'GoPro Hero 9', 'price': '₹28999.00'},\n",
       " {'title': 'GoPro Hero 9', 'price': '₹28999.00'},\n",
       " {'title': 'GoPro Hero 9', 'price': None},\n",
       " {'title': None, 'price': '₹28999.00'},\n",
       " {'title': 'AirPods Pro', 'price': '₹12780.50'},\n",
       " {'title': 'AirPods Pro', 'price': '₹12780.50'},\n",
       " {'title': 'AirPods Pro', 'price': None},\n",
       " {'title': None, 'price': '₹12780.50'},\n",
       " {'title': 'Fitness Treadmill', 'price': '₹38999.00'},\n",
       " {'title': 'Fitness Treadmill', 'price': '₹38999.00'},\n",
       " {'title': 'Fitness Treadmill', 'price': None},\n",
       " {'title': None, 'price': '₹38999.00'},\n",
       " {'title': 'Bluetooth Headphones', 'price': '₹1649.99'},\n",
       " {'title': 'Bluetooth Headphones', 'price': '₹1649.99'},\n",
       " {'title': 'Bluetooth Headphones', 'price': None},\n",
       " {'title': None, 'price': '₹1649.99'},\n",
       " {'title': 'Smart Thermostat', 'price': '₹2999.00'},\n",
       " {'title': 'Smart Thermostat', 'price': '₹2999.00'},\n",
       " {'title': 'Smart Thermostat', 'price': None},\n",
       " {'title': None, 'price': '₹2999.00'},\n",
       " {'title': 'Automatic Coffee Maker', 'price': '₹6299.99'},\n",
       " {'title': 'Automatic Coffee Maker', 'price': '₹6299.99'},\n",
       " {'title': 'Automatic Coffee Maker', 'price': None},\n",
       " {'title': None, 'price': '₹6299.99'},\n",
       " {'title': 'Wireless Charger', 'price': '₹1499.50'},\n",
       " {'title': 'Wireless Charger', 'price': '₹1499.50'},\n",
       " {'title': 'Wireless Charger', 'price': None},\n",
       " {'title': None, 'price': '₹1499.50'},\n",
       " {'title': 'Bluetooth Headphones', 'price': '₹1649.99'},\n",
       " {'title': 'Bluetooth Headphones', 'price': '₹1649.99'},\n",
       " {'title': 'Bluetooth Headphones', 'price': None},\n",
       " {'title': None, 'price': '₹1649.99'},\n",
       " {'title': 'Smart Thermostat', 'price': '₹2999.00'},\n",
       " {'title': 'Smart Thermostat', 'price': '₹2999.00'},\n",
       " {'title': 'Smart Thermostat', 'price': None},\n",
       " {'title': None, 'price': '₹2999.00'},\n",
       " {'title': 'Automatic Coffee Maker', 'price': '₹6299.99'},\n",
       " {'title': 'Automatic Coffee Maker', 'price': '₹6299.99'},\n",
       " {'title': 'Automatic Coffee Maker', 'price': None},\n",
       " {'title': None, 'price': '₹6299.99'},\n",
       " {'title': 'Wireless Charger', 'price': '₹1499.50'},\n",
       " {'title': 'Wireless Charger', 'price': '₹1499.50'},\n",
       " {'title': 'Wireless Charger', 'price': None},\n",
       " {'title': None, 'price': '₹1499.50'},\n",
       " {'title': 'Wireless Bluetooth Earbuds', 'price': '₹899.99'},\n",
       " {'title': 'Wireless Bluetooth Earbuds', 'price': '₹899.99'},\n",
       " {'title': 'Wireless Bluetooth Earbuds', 'price': None},\n",
       " {'title': None, 'price': '₹899.99'}]"
      ]
     },
     "execution_count": 7,
     "metadata": {},
     "output_type": "execute_result"
    }
   ],
   "source": [
    "sc1.get_repeating_date_from_page(\n",
    "    target=target,\n",
    "    title = title,\n",
    "    price = price\n",
    ")"
   ]
  }
 ],
 "metadata": {
  "kernelspec": {
   "display_name": "Python 3",
   "language": "python",
   "name": "python3"
  },
  "language_info": {
   "codemirror_mode": {
    "name": "ipython",
    "version": 3
   },
   "file_extension": ".py",
   "mimetype": "text/x-python",
   "name": "python",
   "nbconvert_exporter": "python",
   "pygments_lexer": "ipython3",
   "version": "3.10.7"
  }
 },
 "nbformat": 4,
 "nbformat_minor": 2
}
